{
 "cells": [
  {
   "cell_type": "markdown",
   "metadata": {},
   "source": [
    "### Import Dependencies"
   ]
  },
  {
   "cell_type": "code",
   "execution_count": 1,
   "metadata": {},
   "outputs": [],
   "source": [
    "import pandas as pd\n",
    "import matplotlib as plt\n",
    "import numpy as np\n",
    "import sklearn as sk"
   ]
  },
  {
   "cell_type": "markdown",
   "metadata": {},
   "source": [
    "### Load Dataset"
   ]
  },
  {
   "cell_type": "code",
   "execution_count": 2,
   "metadata": {},
   "outputs": [
    {
     "data": {
      "text/html": [
       "<div>\n",
       "<style scoped>\n",
       "    .dataframe tbody tr th:only-of-type {\n",
       "        vertical-align: middle;\n",
       "    }\n",
       "\n",
       "    .dataframe tbody tr th {\n",
       "        vertical-align: top;\n",
       "    }\n",
       "\n",
       "    .dataframe thead th {\n",
       "        text-align: right;\n",
       "    }\n",
       "</style>\n",
       "<table border=\"1\" class=\"dataframe\">\n",
       "  <thead>\n",
       "    <tr style=\"text-align: right;\">\n",
       "      <th></th>\n",
       "      <th>State/Parent NTD ID</th>\n",
       "      <th>NTD ID</th>\n",
       "      <th>Agency Name</th>\n",
       "      <th>Reporter Type</th>\n",
       "      <th>Subrecipient Type</th>\n",
       "      <th>Reporting Module</th>\n",
       "      <th>Mode</th>\n",
       "      <th>TOS</th>\n",
       "      <th>Time Period</th>\n",
       "      <th>Time Service Begins</th>\n",
       "      <th>...</th>\n",
       "      <th>ADA UPT</th>\n",
       "      <th>Sponsored Service UPT</th>\n",
       "      <th>Passenger Miles</th>\n",
       "      <th>Days of Service Operated</th>\n",
       "      <th>Days Not Operated Due to Strikes</th>\n",
       "      <th>Strike Comment</th>\n",
       "      <th>Days Not Operated Due to Emergencies</th>\n",
       "      <th>Emergency Comment</th>\n",
       "      <th>Non-Statutory Mixed Traffic</th>\n",
       "      <th>DRM Mixed Traffic ROW</th>\n",
       "    </tr>\n",
       "  </thead>\n",
       "  <tbody>\n",
       "    <tr>\n",
       "      <th>0</th>\n",
       "      <td>NaN</td>\n",
       "      <td>1</td>\n",
       "      <td>King County Department of Metro Transit</td>\n",
       "      <td>Full Reporter</td>\n",
       "      <td>NaN</td>\n",
       "      <td>Urban</td>\n",
       "      <td>DR</td>\n",
       "      <td>PT</td>\n",
       "      <td>Average Weekday - AM Peak</td>\n",
       "      <td>NaN</td>\n",
       "      <td>...</td>\n",
       "      <td>NaN</td>\n",
       "      <td>NaN</td>\n",
       "      <td>NaN</td>\n",
       "      <td>NaN</td>\n",
       "      <td>NaN</td>\n",
       "      <td>NaN</td>\n",
       "      <td>NaN</td>\n",
       "      <td>NaN</td>\n",
       "      <td>NaN</td>\n",
       "      <td>NaN</td>\n",
       "    </tr>\n",
       "    <tr>\n",
       "      <th>1</th>\n",
       "      <td>NaN</td>\n",
       "      <td>1</td>\n",
       "      <td>King County Department of Metro Transit</td>\n",
       "      <td>Full Reporter</td>\n",
       "      <td>NaN</td>\n",
       "      <td>Urban</td>\n",
       "      <td>DR</td>\n",
       "      <td>PT</td>\n",
       "      <td>Average Weekday - Midday</td>\n",
       "      <td>NaN</td>\n",
       "      <td>...</td>\n",
       "      <td>NaN</td>\n",
       "      <td>NaN</td>\n",
       "      <td>NaN</td>\n",
       "      <td>NaN</td>\n",
       "      <td>NaN</td>\n",
       "      <td>NaN</td>\n",
       "      <td>NaN</td>\n",
       "      <td>NaN</td>\n",
       "      <td>NaN</td>\n",
       "      <td>NaN</td>\n",
       "    </tr>\n",
       "    <tr>\n",
       "      <th>2</th>\n",
       "      <td>NaN</td>\n",
       "      <td>1</td>\n",
       "      <td>King County Department of Metro Transit</td>\n",
       "      <td>Full Reporter</td>\n",
       "      <td>NaN</td>\n",
       "      <td>Urban</td>\n",
       "      <td>DR</td>\n",
       "      <td>PT</td>\n",
       "      <td>Average Weekday - PM Peak</td>\n",
       "      <td>NaN</td>\n",
       "      <td>...</td>\n",
       "      <td>NaN</td>\n",
       "      <td>NaN</td>\n",
       "      <td>NaN</td>\n",
       "      <td>NaN</td>\n",
       "      <td>NaN</td>\n",
       "      <td>NaN</td>\n",
       "      <td>NaN</td>\n",
       "      <td>NaN</td>\n",
       "      <td>NaN</td>\n",
       "      <td>NaN</td>\n",
       "    </tr>\n",
       "    <tr>\n",
       "      <th>3</th>\n",
       "      <td>NaN</td>\n",
       "      <td>1</td>\n",
       "      <td>King County Department of Metro Transit</td>\n",
       "      <td>Full Reporter</td>\n",
       "      <td>NaN</td>\n",
       "      <td>Urban</td>\n",
       "      <td>DR</td>\n",
       "      <td>PT</td>\n",
       "      <td>Average Weekday - Other</td>\n",
       "      <td>NaN</td>\n",
       "      <td>...</td>\n",
       "      <td>NaN</td>\n",
       "      <td>NaN</td>\n",
       "      <td>NaN</td>\n",
       "      <td>NaN</td>\n",
       "      <td>NaN</td>\n",
       "      <td>NaN</td>\n",
       "      <td>NaN</td>\n",
       "      <td>NaN</td>\n",
       "      <td>NaN</td>\n",
       "      <td>NaN</td>\n",
       "    </tr>\n",
       "    <tr>\n",
       "      <th>4</th>\n",
       "      <td>NaN</td>\n",
       "      <td>1</td>\n",
       "      <td>King County Department of Metro Transit</td>\n",
       "      <td>Full Reporter</td>\n",
       "      <td>NaN</td>\n",
       "      <td>Urban</td>\n",
       "      <td>DR</td>\n",
       "      <td>PT</td>\n",
       "      <td>Average Typical Weekday</td>\n",
       "      <td>00:00:00</td>\n",
       "      <td>...</td>\n",
       "      <td>NaN</td>\n",
       "      <td>NaN</td>\n",
       "      <td>18431.0</td>\n",
       "      <td>255.0</td>\n",
       "      <td>NaN</td>\n",
       "      <td>NaN</td>\n",
       "      <td>NaN</td>\n",
       "      <td>NaN</td>\n",
       "      <td>NaN</td>\n",
       "      <td>NaN</td>\n",
       "    </tr>\n",
       "  </tbody>\n",
       "</table>\n",
       "<p>5 rows × 41 columns</p>\n",
       "</div>"
      ],
      "text/plain": [
       "  State/Parent NTD ID  NTD ID                              Agency Name  \\\n",
       "0                 NaN       1  King County Department of Metro Transit   \n",
       "1                 NaN       1  King County Department of Metro Transit   \n",
       "2                 NaN       1  King County Department of Metro Transit   \n",
       "3                 NaN       1  King County Department of Metro Transit   \n",
       "4                 NaN       1  King County Department of Metro Transit   \n",
       "\n",
       "   Reporter Type Subrecipient Type Reporting Module Mode TOS  \\\n",
       "0  Full Reporter               NaN            Urban   DR  PT   \n",
       "1  Full Reporter               NaN            Urban   DR  PT   \n",
       "2  Full Reporter               NaN            Urban   DR  PT   \n",
       "3  Full Reporter               NaN            Urban   DR  PT   \n",
       "4  Full Reporter               NaN            Urban   DR  PT   \n",
       "\n",
       "                 Time Period Time Service Begins  ... ADA UPT  \\\n",
       "0  Average Weekday - AM Peak                 NaN  ...     NaN   \n",
       "1   Average Weekday - Midday                 NaN  ...     NaN   \n",
       "2  Average Weekday - PM Peak                 NaN  ...     NaN   \n",
       "3    Average Weekday - Other                 NaN  ...     NaN   \n",
       "4    Average Typical Weekday            00:00:00  ...     NaN   \n",
       "\n",
       "   Sponsored Service UPT  Passenger Miles  Days of Service Operated  \\\n",
       "0                    NaN              NaN                       NaN   \n",
       "1                    NaN              NaN                       NaN   \n",
       "2                    NaN              NaN                       NaN   \n",
       "3                    NaN              NaN                       NaN   \n",
       "4                    NaN          18431.0                     255.0   \n",
       "\n",
       "   Days Not Operated Due to Strikes  Strike Comment  \\\n",
       "0                               NaN             NaN   \n",
       "1                               NaN             NaN   \n",
       "2                               NaN             NaN   \n",
       "3                               NaN             NaN   \n",
       "4                               NaN             NaN   \n",
       "\n",
       "   Days Not Operated Due to Emergencies  Emergency Comment  \\\n",
       "0                                   NaN                NaN   \n",
       "1                                   NaN                NaN   \n",
       "2                                   NaN                NaN   \n",
       "3                                   NaN                NaN   \n",
       "4                                   NaN                NaN   \n",
       "\n",
       "   Non-Statutory Mixed Traffic  DRM Mixed Traffic ROW  \n",
       "0                          NaN                    NaN  \n",
       "1                          NaN                    NaN  \n",
       "2                          NaN                    NaN  \n",
       "3                          NaN                    NaN  \n",
       "4                          NaN                    NaN  \n",
       "\n",
       "[5 rows x 41 columns]"
      ]
     },
     "execution_count": 2,
     "metadata": {},
     "output_type": "execute_result"
    }
   ],
   "source": [
    "trans = pd.read_excel('2022_Service.xlsx')\n",
    "trans.head()"
   ]
  },
  {
   "cell_type": "code",
   "execution_count": 3,
   "metadata": {},
   "outputs": [
    {
     "name": "stdout",
     "output_type": "stream",
     "text": [
      "Our dataset has 13005 rows and 41 columns\n"
     ]
    }
   ],
   "source": [
    "row, col = trans.shape\n",
    "print(f'Our dataset has {row} rows and {col} columns')"
   ]
  },
  {
   "cell_type": "markdown",
   "metadata": {},
   "source": [
    "### Visual Inspection\n",
    "Here, we aim to discover key components of the dataset. \n",
    "* How many missing values do we have? (It seems like a lot!)\n",
    "* What are the features of the dataset?\n",
    "* And many more questions...       \n",
    "\n",
    "From this initial inspection, we can better understand how to proceed."
   ]
  },
  {
   "cell_type": "markdown",
   "metadata": {},
   "source": [
    "#### Shorten column names"
   ]
  },
  {
   "cell_type": "code",
   "execution_count": 4,
   "metadata": {},
   "outputs": [],
   "source": [
    "# define function for reusability\n",
    "def get_cols(df):\n",
    "\n",
    "    \"\"\"\n",
    "    @param df: dataframe you want the column of\n",
    "    @type df: pandas DataFrame\n",
    "\n",
    "    @return: tuple containing a list and string format of columns\n",
    "    @return type: (list, string)\n",
    "    \"\"\"\n",
    "\n",
    "    ft = df.columns.tolist()\n",
    "\n",
    "    ft_s = '\\n'\n",
    "    # print features in easily readible format\n",
    "    for i in range(len(ft)):\n",
    "        if (i + 1) % 3 == 0:\n",
    "            ft_s += ft[i] + ',\\n'\n",
    "        else:\n",
    "            ft_s += ft[i] + ', '\n",
    "    # strip last comma\n",
    "    ft_s = ft_s.rstrip(', ')\n",
    "\n",
    "    return ft, ft_s"
   ]
  },
  {
   "cell_type": "code",
   "execution_count": 5,
   "metadata": {},
   "outputs": [
    {
     "name": "stdout",
     "output_type": "stream",
     "text": [
      "Our dataframe has the following features: \n",
      "State/Parent NTD ID, NTD ID, Agency Name,\n",
      "Reporter Type, Subrecipient Type, Reporting Module,\n",
      "Mode, TOS, Time Period,\n",
      "Time Service Begins, Time Service Ends, Vehicles/Passenger Cars Operated in Maximum Service,\n",
      "Vehicles/Passenger Cars Available for Maximum Service, Trains in Operation, Vehicles/Passenger Cars in Operation,\n",
      "Actual Vehicles/Passenger Car Miles, Actual Vehicles/Passenger Car Revenue Miles, Actual Vehicle/Passenger Deadhead Miles,\n",
      "Scheduled Actual Vehicle/Passenger Car Revenue Miles, Actual Vehicle/Passenger Car Hours, Actual Vehicle/Passenger Car Revenue Hours,\n",
      "Actual Vehicle/Passenger Car Deadhead Hours, Charter Service Hours, School Bus Hours,\n",
      "Train Miles, Train Revenue Miles, Train Deadhead Miles,\n",
      "Train Hours, Train Revenue Hours, Train Deadhead Hours,\n",
      "Unlinked Passenger Trips (UPT), ADA UPT, Sponsored Service UPT,\n",
      "Passenger Miles, Days of Service Operated, Days Not Operated Due to Strikes,\n",
      "Strike Comment, Days Not Operated Due to Emergencies, Emergency Comment,\n",
      "Non-Statutory Mixed Traffic, DRM Mixed Traffic ROW\n"
     ]
    }
   ],
   "source": [
    "old_features_lst, old_features_str = get_cols(trans)\n",
    "print(f'Our dataframe has the following features: {old_features_str}')"
   ]
  },
  {
   "cell_type": "code",
   "execution_count": 6,
   "metadata": {},
   "outputs": [],
   "source": [
    "# rename unnecessarily long column names, but ensure to retain meaning\n",
    "trans = trans.rename(columns={'Vehicles/Passenger Cars Operated in Maximum Service' : 'Vehicles Operated in Max Service', \n",
    "                      'Vehicles/Passenger Cars Available for Maximum Service' : 'Vehicles Available for Max Service',\n",
    "                      'Vehicles/Passenger Cars in Operation' : 'Vehicles in Operation',\n",
    "                      'Actual Vehicles/Passenger Car Miles' : 'Actual Miles',\n",
    "                      'Actual Vehicles/Passenger Car Revenue Miles' : 'Actual Revenue Miles',\n",
    "                      'Actual Vehicle/Passenger Deadhead Miles' : 'Actual Deadhead Miles',\n",
    "                      'Scheduled Actual Vehicle/Passenger Car Revenue Miles' : 'Scheduled Actual Revenue Miles',\n",
    "                      'Actual Vehicle/Passenger Car Hours' : 'Actual Hours',\n",
    "                      'Actual Vehicle/Passenger Car Revenue Hours' : 'Actual Revenue Hours',\n",
    "                      'Actual Vehicle/Passenger Car Deadhead Hours' : 'Actual Deadhead Hours',\n",
    "                      'Days of Service Operated' : 'Days Operated',\n",
    "                      'Days Not Operated Due to Strikes' : 'Days Not Operated (Strikes)',\n",
    "                      'Days Not Operated Due to Emergencies' : 'Days Not Operated (Emergencies)'})"
   ]
  },
  {
   "cell_type": "code",
   "execution_count": 7,
   "metadata": {},
   "outputs": [
    {
     "name": "stdout",
     "output_type": "stream",
     "text": [
      "Our dataframe manipulation resulted in 226 less characters in our columns!\n"
     ]
    }
   ],
   "source": [
    "# lets see our changes in action\n",
    "features_lst, features_str = get_cols(trans)\n",
    "\n",
    "print(f'Our dataframe manipulation resulted in {len(old_features_str) - len(features_str)} less characters in our columns!')"
   ]
  },
  {
   "cell_type": "markdown",
   "metadata": {},
   "source": [
    "#### Deal with NaN values"
   ]
  },
  {
   "cell_type": "code",
   "execution_count": 14,
   "metadata": {},
   "outputs": [
    {
     "data": {
      "text/plain": [
       "State/Parent NTD ID                   11375\n",
       "NTD ID                                    0\n",
       "Reporter Type                             0\n",
       "Subrecipient Type                     11375\n",
       "Reporting Module                          0\n",
       "Mode                                    100\n",
       "TOS                                     100\n",
       "Time Period                               0\n",
       "Time Service Begins                    8103\n",
       "Time Service Ends                      8107\n",
       "Vehicles Operated in Max Service       9319\n",
       "Vehicles Available for Max Service    11688\n",
       "Trains in Operation                   12265\n",
       "Vehicles in Operation                  9424\n",
       "Actual Miles                           8361\n",
       "Actual Revenue Miles                   5830\n",
       "Actual Deadhead Miles                  8361\n",
       "Scheduled Actual Revenue Miles        10358\n",
       "Actual Hours                           8364\n",
       "Actual Revenue Hours                   5935\n",
       "Actual Deadhead Hours                  8364\n",
       "Charter Service Hours                 12276\n",
       "School Bus Hours                      12316\n",
       "Train Miles                           12575\n",
       "Train Revenue Miles                   12575\n",
       "Train Deadhead Miles                  12117\n",
       "Train Hours                           12575\n",
       "Train Revenue Hours                   12575\n",
       "Train Deadhead Hours                  12117\n",
       "Unlinked Passenger Trips (UPT)         5824\n",
       "ADA UPT                               12529\n",
       "Sponsored Service UPT                 11179\n",
       "Passenger Miles                        8307\n",
       "Days Operated                          9512\n",
       "Days Not Operated (Strikes)           11160\n",
       "Strike Comment                        13005\n",
       "Days Not Operated (Emergencies)       11078\n",
       "Emergency Comment                     12794\n",
       "Non-Statutory Mixed Traffic           12990\n",
       "DRM Mixed Traffic ROW                 12456\n",
       "dtype: int64"
      ]
     },
     "execution_count": 14,
     "metadata": {},
     "output_type": "execute_result"
    }
   ],
   "source": [
    "nan_counts = trans.groupby('Agency Name').apply(lambda x: x.isna().sum(), include_groups=False)\n",
    "nan_counts = nan_counts.sum()\n",
    "nan_counts\n"
   ]
  },
  {
   "cell_type": "code",
   "execution_count": 18,
   "metadata": {},
   "outputs": [
    {
     "data": {
      "text/plain": [
       "State/Parent NTD ID                    87.466359\n",
       "NTD ID                                  0.000000\n",
       "Agency Name                             0.000000\n",
       "Reporter Type                           0.000000\n",
       "Subrecipient Type                      87.466359\n",
       "Reporting Module                        0.000000\n",
       "Mode                                    0.768935\n",
       "TOS                                     0.768935\n",
       "Time Period                             0.000000\n",
       "Time Service Begins                    62.306805\n",
       "Time Service Ends                      62.337562\n",
       "Vehicles Operated in Max Service       71.657055\n",
       "Vehicles Available for Max Service     89.873126\n",
       "Trains in Operation                    94.309881\n",
       "Vehicles in Operation                  72.464437\n",
       "Actual Miles                           64.290657\n",
       "Actual Revenue Miles                   44.828912\n",
       "Actual Deadhead Miles                  64.290657\n",
       "Scheduled Actual Revenue Miles         79.646290\n",
       "Actual Hours                           64.313725\n",
       "Actual Revenue Hours                   45.636294\n",
       "Actual Deadhead Hours                  64.313725\n",
       "Charter Service Hours                  94.394464\n",
       "School Bus Hours                       94.702038\n",
       "Train Miles                            96.693579\n",
       "Train Revenue Miles                    96.693579\n",
       "Train Deadhead Miles                   93.171857\n",
       "Train Hours                            96.693579\n",
       "Train Revenue Hours                    96.693579\n",
       "Train Deadhead Hours                   93.171857\n",
       "Unlinked Passenger Trips (UPT)         44.782776\n",
       "ADA UPT                                96.339869\n",
       "Sponsored Service UPT                  85.959246\n",
       "Passenger Miles                        63.875433\n",
       "Days Operated                          73.141100\n",
       "Days Not Operated (Strikes)            85.813149\n",
       "Strike Comment                        100.000000\n",
       "Days Not Operated (Emergencies)        85.182622\n",
       "Emergency Comment                      98.377547\n",
       "Non-Statutory Mixed Traffic            99.884660\n",
       "DRM Mixed Traffic ROW                  95.778547\n",
       "dtype: float64"
      ]
     },
     "execution_count": 18,
     "metadata": {},
     "output_type": "execute_result"
    }
   ],
   "source": [
    "percent_missing = trans.isnull().sum() * 100 / len(trans)\n",
    "percent_missing"
   ]
  }
 ],
 "metadata": {
  "kernelspec": {
   "display_name": "transportation",
   "language": "python",
   "name": "python3"
  },
  "language_info": {
   "codemirror_mode": {
    "name": "ipython",
    "version": 3
   },
   "file_extension": ".py",
   "mimetype": "text/x-python",
   "name": "python",
   "nbconvert_exporter": "python",
   "pygments_lexer": "ipython3",
   "version": "3.10.12"
  }
 },
 "nbformat": 4,
 "nbformat_minor": 2
}
